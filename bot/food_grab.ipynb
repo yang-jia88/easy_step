{
 "cells": [
  {
   "cell_type": "code",
   "execution_count": 11,
   "metadata": {},
   "outputs": [],
   "source": [
    "import selenium\n",
    "from bs4 import BeautifulSoup\n",
    "from selenium import webdriver\n",
    "from selenium.webdriver.chrome.options import Options\n",
    "from selenium.webdriver.common.by import By\n",
    "from selenium.webdriver.support.wait import WebDriverWait\n",
    "from selenium.webdriver.support import expected_conditions as EC\n",
    "from selenium.webdriver.common.keys import Keys\n",
    "import requests\n"
   ]
  },
  {
   "cell_type": "code",
   "execution_count": 9,
   "metadata": {},
   "outputs": [],
   "source": [
    "options = Options()\n",
    "\n",
    "options.chrome_executable_path = \"chromedriver.exe\"\n",
    "options.add_experimental_option('excludeSwitches', ['enable-logging'])\n",
    "\n",
    "driver = webdriver.Chrome(options=options)\n",
    "driver.get(\"https://ifoodie.tw/\")\n",
    "# mainpage_ck = WebDriverWait(driver,10).until(EC.element_to_be_clickable((By.CLASS_NAME,\"jsx-1638812939 mask\")))\n",
    "mainpage_ck = driver.find_element(By.CLASS_NAME,\"jsx-1638812939\")\n",
    "mainpage_ck.click()"
   ]
  },
  {
   "cell_type": "code",
   "execution_count": 44,
   "metadata": {},
   "outputs": [
    {
     "name": "stdout",
     "output_type": "stream",
     "text": [
      "/explore/台北市/list/%E9%8D%8B%E9%A1%9E\n"
     ]
    }
   ],
   "source": [
    "res = requests.get(\"https://ifoodie.tw/\")\n",
    "soup = BeautifulSoup(res.text,'html')\n",
    "next_url = soup.find_all(\"div\",class_=\"jsx-1638812939 category-block-item-outer\")[0].a[\"href\"]\n",
    "# print(\"https://ifoodie.tw\"+next_url)\n",
    "print(next_url)"
   ]
  },
  {
   "cell_type": "code",
   "execution_count": null,
   "metadata": {},
   "outputs": [],
   "source": [
    "res = requests.get(\"\")\n",
    "soup = BeautifulSoup(res.text,'html')\n",
    "print(soup.article.a.prettify())"
   ]
  }
 ],
 "metadata": {
  "kernelspec": {
   "display_name": "Python 3",
   "language": "python",
   "name": "python3"
  },
  "language_info": {
   "codemirror_mode": {
    "name": "ipython",
    "version": 3
   },
   "file_extension": ".py",
   "mimetype": "text/x-python",
   "name": "python",
   "nbconvert_exporter": "python",
   "pygments_lexer": "ipython3",
   "version": "3.10.11"
  },
  "orig_nbformat": 4
 },
 "nbformat": 4,
 "nbformat_minor": 2
}
