{
 "cells": [
  {
   "cell_type": "code",
   "execution_count": 2,
   "metadata": {},
   "outputs": [],
   "source": [
    "import requests\n",
    "import json"
   ]
  },
  {
   "cell_type": "code",
   "execution_count": 4,
   "metadata": {},
   "outputs": [
    {
     "name": "stdout",
     "output_type": "stream",
     "text": [
      "{'data': [{'created_time': '2023-05-29T09:41:13+0000', 'story': '小拉拉更新了大頭貼照。', 'id': '107275292386473_101895366262698'}], 'paging': {'cursors': {'before': 'QVFIUk1wUTM0SGdFaHhFU25aOTdtRG5xa2NrQUpsNXlDNGVaWEl1SFlXc0h4ZA2s4Y2UzcEUtUDQ0U2NJcmxHTm9sMnZAmT0xfWmlVSi1fTTdwNnhreUIwQ2ZABY2VfX19sM0QtZAzMzOFRwZAEVOMlZALNVVqUkFWTlk2T1g2OHVMSFl3U0dFbEUxU1pwVDRuaE91YkpLeU5rYm84MlpLd3Y0WHZAYMjYwX3JtMFVFY2lDSURXZAXU4T2pJc1R0QnlaczBpWWRacVZAVZAXZAIUVd6ZAjdoTFBsTDhFaVJrMjBSSzFia1VrT3FyOVQ5S1I0WDJGNTNkM1kzLS1yS1dQZAEtQM09IbmF1dmJzQ2ZASWGQtYU1ONkU0LXYyWC1id3NSaG5FOHRmTVk5czRiSzRnWWxreEpla1QxSmdVT0haV1JlZAm5QSTJYN3U5WUx5MDdZAUkxnZADZApS1U5ZAlEydnIxcVJEWF9kaURFZA21UMVJPanZAEX0dOSnBfQThlZADFDLUUzSFlmeFhZANzAzNDJJdzFSeU9yREN2SUFyRzMxOFRPbnViU09iX25DeWJDQkljRGZAKREhpNS1tcXE2SnNQRlAwYVdBYzdOMUJsZAk5rR0hRWUNtVmpCZAUlZAa3l0YkJuVXJR', 'after': 'QVFIUkdqTjlQVHRwMVdhbEV2UVpaWkF2YWplVnpsdDZAwQXJPTlBZAYnludFdKenBIVFdvbVZApTEFfOFBsanhCZA3c1b2kwcVZADcWFiWDVqYUtxUTRUUE5NMTFpaXFwcjBSdDltX2hvRHRDX1VIbnhSUk1iaGVqVkh5NjlCZAWFOQS1UTnFOLTg2aUNBb3ZAtd1Vxa0NHakcxbXJDaDR2RUxxRVBEeVNrWTUzUllOUnNNV2p1NWdGRTJIZAjlTaF9HQzM2VlpzSGtEeTdaTGJfZAXRwU0ZAMcUlBOHVwel9vdVNhY2lJc3pkZADFvUGg2S2pkVDhXYS1wVzg0ckRqcU1qdk52SjVtRTMwTDk4cnFPbkRQLWpLOEtUOWxOazFWdjFuQWh5azZAQdWZAKZA0pSY1lsX1NLVGxkZAjdSWHF0MnFMM1VuSVRXUGgxVC1pM1NwU2tSOGFqT3FzSl9uUUl0elhaMzJlNnJBT3dBNml2WDIzeHFud0I1YmQ0cl93QmJoZAW5ZAbHJCZAi1ab1FXaHEwcldmb2p3WnRvOVlxS2NkVkVNSEY2ZAHd2M0RXRUVLbGZAVcWtsTnN5dVRjVmQ1QUF6MEdqbloxT1E1TjBuWUMxQlpubTIyZAlhpVmxpT194aklB'}}}\n"
     ]
    },
    {
     "ename": "",
     "evalue": "",
     "output_type": "error",
     "traceback": [
      "\u001b[1;31mThe Kernel crashed while executing code in the the current cell or a previous cell. Please review the code in the cell(s) to identify a possible cause of the failure. Click <a href='https://aka.ms/vscodeJupyterKernelCrash'>here</a> for more info. View Jupyter <a href='command:jupyter.viewOutput'>log</a> for further details."
     ]
    }
   ],
   "source": [
    "token = \"EAAN4Y7IBpgEBAGdf45ZClgZBBSNLtZCauaa9xUBDRDPNFyMw48TyHWfUZBQOBW001vdQcLDOxinl9IcoojicNpiBhkpGaOa8Lo9bIthwIvhqfy1UggUZCfBAC0zWxbIQGk469YLbAd93tiMDdxBw9tZBtkGXWbEurXl2eEWPZBeePmc80SAknCZCumYWOXYKPDG4WCno0h5tYgDyHagGPkjH\"\n",
    "url = \"https://graph.facebook.com/v17.0/107275292386473/posts?access_token=\"\n",
    "res = requests.get(url+token)\n",
    "jd = json.loads(res.text)\n",
    "print(jd)"
   ]
  }
 ],
 "metadata": {
  "kernelspec": {
   "display_name": "Python 3",
   "language": "python",
   "name": "python3"
  },
  "language_info": {
   "codemirror_mode": {
    "name": "ipython",
    "version": 3
   },
   "file_extension": ".py",
   "mimetype": "text/x-python",
   "name": "python",
   "nbconvert_exporter": "python",
   "pygments_lexer": "ipython3",
   "version": "3.10.11"
  },
  "orig_nbformat": 4
 },
 "nbformat": 4,
 "nbformat_minor": 2
}
