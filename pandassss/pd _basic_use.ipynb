{
 "cells": [
  {
   "cell_type": "code",
   "execution_count": 17,
   "metadata": {},
   "outputs": [
    {
     "name": "stdout",
     "output_type": "stream",
     "text": [
      "   name  salary\n",
      "a   amy   30000\n",
      "b  john   40000\n",
      "c   bob     300\n",
      "(3, 2)\n",
      "name       john\n",
      "salary    40000\n",
      "Name: b, dtype: object\n"
     ]
    }
   ],
   "source": [
    "import pandas as pd\n",
    "\n",
    "data = pd.DataFrame({\n",
    "    \"name\":[\"amy\",\"john\",\"bob\"],\n",
    "    \"salary\":[30000,40000,300]\n",
    "},index=[\"a\",'b','c'])\n",
    "print(data)\n",
    "print(data.shape)\n",
    "s1 = pd.Series\n",
    "print(data.iloc[1])"
   ]
  },
  {
   "cell_type": "code",
   "execution_count": 8,
   "metadata": {},
   "outputs": [
    {
     "name": "stdout",
     "output_type": "stream",
     "text": [
      "name       john\n",
      "salary    40000\n",
      "Name: b, dtype: object\n",
      "name      bob\n",
      "salary    300\n",
      "Name: c, dtype: object\n"
     ]
    }
   ],
   "source": [
    "print(data.iloc[1])\n",
    "print(data.loc[\"c\"])"
   ]
  },
  {
   "attachments": {},
   "cell_type": "markdown",
   "metadata": {},
   "source": [
    "###get second col\n",
    "###get third row"
   ]
  },
  {
   "cell_type": "code",
   "execution_count": 11,
   "metadata": {},
   "outputs": [
    {
     "name": "stdout",
     "output_type": "stream",
     "text": [
      "   name  salary  rank  revenue          cp\n",
      "a   amy   30000     5    50000    1.666667\n",
      "b  john   40000     7    60000    1.500000\n",
      "c   bob     300     8    70000  233.333333\n"
     ]
    }
   ],
   "source": [
    "data[\"revenue\"] = [50000,60000,70000]\n",
    "data[\"rank\"] = pd.Series([5,7,8],index = [\"a\",\"b\",\"c\"])\n",
    "data[\"cp\"] = data[\"revenue\"]/data[\"salary\"]\n",
    "print(data)"
   ]
  },
  {
   "attachments": {},
   "cell_type": "markdown",
   "metadata": {},
   "source": [
    "###build new sheet"
   ]
  },
  {
   "cell_type": "code",
   "execution_count": 14,
   "metadata": {},
   "outputs": [
    {
     "name": "stdout",
     "output_type": "stream",
     "text": [
      "1    500\n",
      "2    700\n",
      "dtype: int64\n"
     ]
    }
   ],
   "source": [
    "data = pd.Series([330,500,700])\n",
    "# condition = [True,False,True]\n",
    "condition = data > 450\n",
    "filterdata = data[condition]\n",
    "print(filterdata)"
   ]
  },
  {
   "cell_type": "code",
   "execution_count": 16,
   "metadata": {},
   "outputs": [
    {
     "name": "stdout",
     "output_type": "stream",
     "text": [
      "0     True\n",
      "1    False\n",
      "2     True\n",
      "dtype: bool\n",
      "0    peaches\n",
      "2     please\n",
      "dtype: object\n"
     ]
    }
   ],
   "source": [
    "data = pd.Series([\"peaches\",\"peace\",\"please\"])\n",
    "condition = data.str.contains(\"s\")\n",
    "print(condition)\n",
    "filterdata = data[condition]\n",
    "print(filterdata)"
   ]
  },
  {
   "attachments": {},
   "cell_type": "markdown",
   "metadata": {},
   "source": [
    "###filter string contain p "
   ]
  },
  {
   "cell_type": "code",
   "execution_count": 18,
   "metadata": {},
   "outputs": [
    {
     "name": "stdout",
     "output_type": "stream",
     "text": [
      "a     True\n",
      "b    False\n",
      "c    False\n",
      "Name: name, dtype: bool\n",
      "  name  salary\n",
      "a  amy   30000\n"
     ]
    },
    {
     "ename": "",
     "evalue": "",
     "output_type": "error",
     "traceback": [
      "\u001b[1;31mThe Kernel crashed while executing code in the the current cell or a previous cell. Please review the code in the cell(s) to identify a possible cause of the failure. Click <a href='https://aka.ms/vscodeJupyterKernelCrash'>here</a> for more info. View Jupyter <a href='command:jupyter.viewOutput'>log</a> for further details."
     ]
    }
   ],
   "source": [
    "condition = data[\"name\"]==\"amy\"\n",
    "print(condition)\n",
    "filterdata = data[condition]\n",
    "print(filterdata)"
   ]
  },
  {
   "cell_type": "code",
   "execution_count": null,
   "metadata": {},
   "outputs": [],
   "source": [
    "### find value"
   ]
  },
  {
   "cell_type": "code",
   "execution_count": 1,
   "metadata": {},
   "outputs": [
    {
     "ename": "NameError",
     "evalue": "name 'pd' is not defined",
     "output_type": "error",
     "traceback": [
      "\u001b[1;31m---------------------------------------------------------------------------\u001b[0m",
      "\u001b[1;31mNameError\u001b[0m                                 Traceback (most recent call last)",
      "Cell \u001b[1;32mIn[1], line 1\u001b[0m\n\u001b[1;32m----> 1\u001b[0m data \u001b[39m=\u001b[39m pd\u001b[39m.\u001b[39mread_csv(\u001b[39m\"\u001b[39m\u001b[39m\"\u001b[39m)\n",
      "\u001b[1;31mNameError\u001b[0m: name 'pd' is not defined"
     ]
    }
   ],
   "source": [
    "data = pd.read_csv(\"\")\n",
    "print(data.shape)\n",
    "print(data.columns)\n",
    "print(data[\"\"].nlargest().mean()) #欄位 前多少格 平均數"
   ]
  }
 ],
 "metadata": {
  "kernelspec": {
   "display_name": "Python 3",
   "language": "python",
   "name": "python3"
  },
  "language_info": {
   "codemirror_mode": {
    "name": "ipython",
    "version": 3
   },
   "file_extension": ".py",
   "mimetype": "text/x-python",
   "name": "python",
   "nbconvert_exporter": "python",
   "pygments_lexer": "ipython3",
   "version": "3.10.11"
  },
  "orig_nbformat": 4
 },
 "nbformat": 4,
 "nbformat_minor": 2
}
