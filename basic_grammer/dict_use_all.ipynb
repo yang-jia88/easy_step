{
 "cells": [
  {
   "cell_type": "code",
   "execution_count": 5,
   "metadata": {},
   "outputs": [
    {
     "name": "stdout",
     "output_type": "stream",
     "text": [
      "{'apple': 0, 'banana': 1, 'cherry': 2}\n"
     ]
    }
   ],
   "source": [
    "my_list = ['apple', 'banana', 'cherry']\n",
    "\n",
    "my_dict = {element:index for index, element in enumerate(my_list)}\n",
    "\n",
    "print(my_dict)"
   ]
  },
  {
   "cell_type": "code",
   "execution_count": 2,
   "metadata": {},
   "outputs": [
    {
     "name": "stdout",
     "output_type": "stream",
     "text": [
      "{'apple': 1, 'banana': 2, 'cherry': 3}\n"
     ]
    }
   ],
   "source": [
    "my_list = ['apple', 'banana', 'cherry']\n",
    "my_dict2 = {}\n",
    "\n",
    "for index2, element2 in enumerate(my_list):\n",
    "    my_dict2[element2] = index2+1\n",
    "    \n",
    "print(my_dict2)"
   ]
  }
 ],
 "metadata": {
  "kernelspec": {
   "display_name": "Python 3",
   "language": "python",
   "name": "python3"
  },
  "language_info": {
   "codemirror_mode": {
    "name": "ipython",
    "version": 3
   },
   "file_extension": ".py",
   "mimetype": "text/x-python",
   "name": "python",
   "nbconvert_exporter": "python",
   "pygments_lexer": "ipython3",
   "version": "3.10.11"
  },
  "orig_nbformat": 4
 },
 "nbformat": 4,
 "nbformat_minor": 2
}
